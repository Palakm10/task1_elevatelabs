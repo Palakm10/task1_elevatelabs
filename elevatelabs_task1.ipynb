{
  "nbformat": 4,
  "nbformat_minor": 0,
  "metadata": {
    "colab": {
      "provenance": []
    },
    "kernelspec": {
      "name": "python3",
      "display_name": "Python 3"
    },
    "language_info": {
      "name": "python"
    }
  },
  "cells": [
    {
      "cell_type": "code",
      "source": [
        "import pandas as pd\n"
      ],
      "metadata": {
        "id": "DUsBd8ob_vaN"
      },
      "execution_count": 1,
      "outputs": []
    },
    {
      "cell_type": "code",
      "source": [
        "csv_path = '/content/netflix_titles_nov_2019.csv'\n",
        "\n",
        "df = pd.read_csv(csv_path)\n",
        "\n",
        "print(df.head())\n"
      ],
      "metadata": {
        "colab": {
          "base_uri": "https://localhost:8080/"
        },
        "id": "LD5h6_9Z_v6z",
        "outputId": "a1e77094-4753-4088-d8d7-141c2a9c3f91"
      },
      "execution_count": 2,
      "outputs": [
        {
          "output_type": "stream",
          "name": "stdout",
          "text": [
            "    show_id                                title                    director  \\\n",
            "0  81193313                            Chocolate                         NaN   \n",
            "1  81197050  Guatemala: Heart of the Mayan World  Luis Ara, Ignacio Jaunsolo   \n",
            "2  81213894                      The Zoya Factor             Abhishek Sharma   \n",
            "3  81082007                            Atlantics                   Mati Diop   \n",
            "4  80213643                      Chip and Potato                         NaN   \n",
            "\n",
            "                                                cast  \\\n",
            "0  Ha Ji-won, Yoon Kye-sang, Jang Seung-jo, Kang ...   \n",
            "1                                  Christian Morales   \n",
            "2  Sonam Kapoor, Dulquer Salmaan, Sanjay Kapoor, ...   \n",
            "3  Mama Sane, Amadou Mbow, Ibrahima Traore, Nicol...   \n",
            "4  Abigail Oliver, Andrea Libman, Briana Buckmast...   \n",
            "\n",
            "                    country         date_added  release_year rating  \\\n",
            "0               South Korea  November 30, 2019          2019  TV-14   \n",
            "1                       NaN  November 30, 2019          2019   TV-G   \n",
            "2                     India  November 30, 2019          2019  TV-14   \n",
            "3  France, Senegal, Belgium  November 29, 2019          2019  TV-14   \n",
            "4    Canada, United Kingdom                NaN          2019   TV-Y   \n",
            "\n",
            "    duration                                          listed_in  \\\n",
            "0   1 Season  International TV Shows, Korean TV Shows, Roman...   \n",
            "1     67 min                Documentaries, International Movies   \n",
            "2    135 min             Comedies, Dramas, International Movies   \n",
            "3    106 min   Dramas, Independent Movies, International Movies   \n",
            "4  2 Seasons                                           Kids' TV   \n",
            "\n",
            "                                         description     type  \n",
            "0  Brought together by meaningful meals in the pa...  TV Show  \n",
            "1  From Sierra de las Minas to Esquipulas, explor...    Movie  \n",
            "2  A goofy copywriter unwittingly convinces the I...    Movie  \n",
            "3  Arranged to marry a rich man, young Ada is cru...    Movie  \n",
            "4  Lovable pug Chip starts kindergarten, makes ne...  TV Show  \n"
          ]
        }
      ]
    },
    {
      "cell_type": "code",
      "source": [
        "print(\"\\nMissing values before handling:\\n\", df.isnull().sum())"
      ],
      "metadata": {
        "colab": {
          "base_uri": "https://localhost:8080/"
        },
        "id": "652bM8GK_1fK",
        "outputId": "677eb666-81c8-43c5-e988-cfda7f111574"
      },
      "execution_count": 3,
      "outputs": [
        {
          "output_type": "stream",
          "name": "stdout",
          "text": [
            "\n",
            "Missing values before handling:\n",
            " show_id            0\n",
            "title              0\n",
            "director        1901\n",
            "cast             556\n",
            "country          427\n",
            "date_added       642\n",
            "release_year       0\n",
            "rating            10\n",
            "duration           0\n",
            "listed_in          0\n",
            "description        0\n",
            "type               0\n",
            "dtype: int64\n"
          ]
        }
      ]
    },
    {
      "cell_type": "code",
      "source": [
        "df['country'] = df['country'].fillna('Unknown')\n",
        "\n",
        "df['director'] = df['director'].fillna('Not Available')\n",
        "\n",
        "df = df.dropna(subset=['title', 'type'])\n"
      ],
      "metadata": {
        "id": "JToQPSLM_3of"
      },
      "execution_count": 4,
      "outputs": []
    },
    {
      "cell_type": "code",
      "source": [
        "df = df.drop_duplicates()"
      ],
      "metadata": {
        "id": "RVV3bgRUAA8U"
      },
      "execution_count": 5,
      "outputs": []
    },
    {
      "cell_type": "code",
      "source": [
        "df['country'] = df['country'].str.title().str.strip()\n",
        "\n",
        "df['rating'] = df['rating'].str.upper().str.strip()\n"
      ],
      "metadata": {
        "id": "N1fIaFQmAEfI"
      },
      "execution_count": 6,
      "outputs": []
    },
    {
      "cell_type": "code",
      "source": [
        "df['date_added'] = pd.to_datetime(df['date_added'], errors='coerce')\n"
      ],
      "metadata": {
        "id": "dpgUuM7hAIZD"
      },
      "execution_count": 7,
      "outputs": []
    },
    {
      "cell_type": "code",
      "source": [
        "df.columns = df.columns.str.lower().str.replace(' ', '_')\n"
      ],
      "metadata": {
        "id": "wbfkv4PvALMB"
      },
      "execution_count": 8,
      "outputs": []
    },
    {
      "cell_type": "code",
      "source": [
        "df['release_year'] = df['release_year'].astype('Int64')\n"
      ],
      "metadata": {
        "id": "cgXHbHthANgq"
      },
      "execution_count": 9,
      "outputs": []
    },
    {
      "cell_type": "code",
      "source": [
        "print(\"\\nCleaned Data Info:\")\n",
        "print(df.info())\n",
        "\n",
        "print(\"\\nCleaned Data Snapshot:\\n\", df.head())\n"
      ],
      "metadata": {
        "colab": {
          "base_uri": "https://localhost:8080/"
        },
        "id": "3z5zGSlHAQl2",
        "outputId": "5969ea1f-41cb-4f6b-eac8-b27686b1d6be"
      },
      "execution_count": 10,
      "outputs": [
        {
          "output_type": "stream",
          "name": "stdout",
          "text": [
            "\n",
            "Cleaned Data Info:\n",
            "<class 'pandas.core.frame.DataFrame'>\n",
            "RangeIndex: 5837 entries, 0 to 5836\n",
            "Data columns (total 12 columns):\n",
            " #   Column        Non-Null Count  Dtype         \n",
            "---  ------        --------------  -----         \n",
            " 0   show_id       5837 non-null   int64         \n",
            " 1   title         5837 non-null   object        \n",
            " 2   director      5837 non-null   object        \n",
            " 3   cast          5281 non-null   object        \n",
            " 4   country       5837 non-null   object        \n",
            " 5   date_added    5195 non-null   datetime64[ns]\n",
            " 6   release_year  5837 non-null   Int64         \n",
            " 7   rating        5827 non-null   object        \n",
            " 8   duration      5837 non-null   object        \n",
            " 9   listed_in     5837 non-null   object        \n",
            " 10  description   5837 non-null   object        \n",
            " 11  type          5837 non-null   object        \n",
            "dtypes: Int64(1), datetime64[ns](1), int64(1), object(9)\n",
            "memory usage: 553.0+ KB\n",
            "None\n",
            "\n",
            "Cleaned Data Snapshot:\n",
            "     show_id                                title                    director  \\\n",
            "0  81193313                            Chocolate               Not Available   \n",
            "1  81197050  Guatemala: Heart of the Mayan World  Luis Ara, Ignacio Jaunsolo   \n",
            "2  81213894                      The Zoya Factor             Abhishek Sharma   \n",
            "3  81082007                            Atlantics                   Mati Diop   \n",
            "4  80213643                      Chip and Potato               Not Available   \n",
            "\n",
            "                                                cast  \\\n",
            "0  Ha Ji-won, Yoon Kye-sang, Jang Seung-jo, Kang ...   \n",
            "1                                  Christian Morales   \n",
            "2  Sonam Kapoor, Dulquer Salmaan, Sanjay Kapoor, ...   \n",
            "3  Mama Sane, Amadou Mbow, Ibrahima Traore, Nicol...   \n",
            "4  Abigail Oliver, Andrea Libman, Briana Buckmast...   \n",
            "\n",
            "                    country date_added  release_year rating   duration  \\\n",
            "0               South Korea 2019-11-30          2019  TV-14   1 Season   \n",
            "1                   Unknown 2019-11-30          2019   TV-G     67 min   \n",
            "2                     India 2019-11-30          2019  TV-14    135 min   \n",
            "3  France, Senegal, Belgium 2019-11-29          2019  TV-14    106 min   \n",
            "4    Canada, United Kingdom        NaT          2019   TV-Y  2 Seasons   \n",
            "\n",
            "                                           listed_in  \\\n",
            "0  International TV Shows, Korean TV Shows, Roman...   \n",
            "1                Documentaries, International Movies   \n",
            "2             Comedies, Dramas, International Movies   \n",
            "3   Dramas, Independent Movies, International Movies   \n",
            "4                                           Kids' TV   \n",
            "\n",
            "                                         description     type  \n",
            "0  Brought together by meaningful meals in the pa...  TV Show  \n",
            "1  From Sierra de las Minas to Esquipulas, explor...    Movie  \n",
            "2  A goofy copywriter unwittingly convinces the I...    Movie  \n",
            "3  Arranged to marry a rich man, young Ada is cru...    Movie  \n",
            "4  Lovable pug Chip starts kindergarten, makes ne...  TV Show  \n"
          ]
        }
      ]
    },
    {
      "cell_type": "code",
      "source": [],
      "metadata": {
        "id": "7icnl-A9AVDS"
      },
      "execution_count": null,
      "outputs": []
    }
  ]
}